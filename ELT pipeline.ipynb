{
 "cells": [
  {
   "cell_type": "code",
   "execution_count": 0,
   "metadata": {
    "application/vnd.databricks.v1+cell": {
     "cellMetadata": {},
     "inputWidgets": {},
     "nuid": "5f7f70c3-1e4a-45c2-b772-723a6ad159df",
     "showTitle": false,
     "tableResultSettingsMap": {},
     "title": ""
    }
   },
   "outputs": [],
   "source": [
    "raw_df = spark.read.format(\"csv\") \\\n",
    "    .option(\"header\", \"true\") \\\n",
    "    .option(\"inferSchema\", \"true\") \\\n",
    "    .load(\"/Volumes/workspace/default/data_file/data/Online_Retail.csv\")\n",
    "\n",
    "raw_df.write.format(\"delta\").mode(\"overwrite\").save(\"/mnt/bronze/sales_data\")"
   ]
  },
  {
   "cell_type": "code",
   "execution_count": 0,
   "metadata": {
    "application/vnd.databricks.v1+cell": {
     "cellMetadata": {},
     "inputWidgets": {},
     "nuid": "31d5b518-794c-476a-8c5d-f1e0ac9e2234",
     "showTitle": false,
     "tableResultSettingsMap": {},
     "title": ""
    }
   },
   "outputs": [],
   "source": [
    "bronze_df = spark.read.format(\"delta\").load(\"/mnt/bronze/sales_data\")\n",
    "\n",
    "silver_df = bronze_df.filter(\"Quantity > 0 AND UnitPrice > 0\") \\\n",
    "    .withColumnRenamed(\"InvoiceNo\", \"invoice_no\") \\\n",
    "    .withColumnRenamed(\"StockCode\", \"stock_code\")\n",
    "\n",
    "silver_df.write.format(\"delta\").mode(\"overwrite\").save(\"/mnt/silver/sales_data_cleaned\")"
   ]
  },
  {
   "cell_type": "code",
   "execution_count": 0,
   "metadata": {
    "application/vnd.databricks.v1+cell": {
     "cellMetadata": {},
     "inputWidgets": {},
     "nuid": "a4b034ba-dcc3-4dbb-8459-c09d5c343238",
     "showTitle": false,
     "tableResultSettingsMap": {},
     "title": ""
    }
   },
   "outputs": [],
   "source": [
    "silver_df = spark.read.format(\"delta\").load(\"/mnt/silver/sales_data_cleaned\")\n",
    "\n",
    "gold_df = silver_df.groupBy(\"Country\") \\\n",
    "    .agg({\"Quantity\": \"sum\", \"UnitPrice\": \"avg\"}) \\\n",
    "    .withColumnRenamed(\"sum(Quantity)\", \"total_quantity\") \\\n",
    "    .withColumnRenamed(\"avg(UnitPrice)\", \"avg_unit_price\")\n",
    "\n",
    "gold_df.write.format(\"delta\").mode(\"overwrite\").save(\"/mnt/gold/sales_summary\")"
   ]
  }
 ],
 "metadata": {
  "application/vnd.databricks.v1+notebook": {
   "computePreferences": null,
   "dashboards": [],
   "environmentMetadata": {
    "base_environment": "",
    "environment_version": "2"
   },
   "inputWidgetPreferences": null,
   "language": "python",
   "notebookMetadata": {
    "pythonIndentUnit": 4
   },
   "notebookName": "ELT pipeline",
   "widgets": {}
  },
  "language_info": {
   "name": "python"
  }
 },
 "nbformat": 4,
 "nbformat_minor": 0
}